{
 "cells": [
  {
   "cell_type": "code",
   "id": "initial_id",
   "metadata": {
    "collapsed": true,
    "ExecuteTime": {
     "end_time": "2025-09-05T06:30:59.923350Z",
     "start_time": "2025-09-05T06:30:59.911311Z"
    }
   },
   "source": [
    "from fileinput import fileno\n",
    "\n",
    "SampleText = \"Software development requires understanding systems both large and small. Whether you’re working for a company or a client, you need to understand the customer’s requirements and needs and account for the realities of the environment where the software will run. Successful software adapts to the needs of the users and environment, not the other way around. To understand a process well enough to explain it to another is to educate yourself. Once you ask enough questions to gain that understanding, you’ll never see that process the same again. Your perspective is forever changed because you have learned to understand it well enough to recreate some part of it, if only in someone else’s mind or the computer’s memory. You take that new perspective with you from every project.\""
   ],
   "outputs": [],
   "execution_count": 1
  },
  {
   "metadata": {
    "ExecuteTime": {
     "end_time": "2025-09-05T06:32:16.988460Z",
     "start_time": "2025-09-05T06:32:16.953733Z"
    }
   },
   "cell_type": "code",
   "source": "len(SampleText.split())",
   "id": "e4fc252042ec1ff2",
   "outputs": [
    {
     "data": {
      "text/plain": [
       "128"
      ]
     },
     "execution_count": 2,
     "metadata": {},
     "output_type": "execute_result"
    }
   ],
   "execution_count": 2
  },
  {
   "metadata": {},
   "cell_type": "markdown",
   "source": "**id()** - Used to return the ID of an object in Python.",
   "id": "7abb36fde83971c6"
  },
  {
   "metadata": {
    "ExecuteTime": {
     "end_time": "2025-09-05T06:35:42.797885Z",
     "start_time": "2025-09-05T06:35:42.766795Z"
    }
   },
   "cell_type": "code",
   "source": "id(SampleText)",
   "id": "805ac0744848bcf7",
   "outputs": [
    {
     "data": {
      "text/plain": [
       "1654233348688"
      ]
     },
     "execution_count": 3,
     "metadata": {},
     "output_type": "execute_result"
    }
   ],
   "execution_count": 3
  },
  {
   "metadata": {},
   "cell_type": "markdown",
   "source": "pwd will show the directory of the current file.",
   "id": "4fb7d31393539beb"
  },
  {
   "metadata": {
    "ExecuteTime": {
     "end_time": "2025-09-05T06:37:39.737682Z",
     "start_time": "2025-09-05T06:37:39.731882Z"
    }
   },
   "cell_type": "code",
   "source": "pwd",
   "id": "2bfe6b3cfebc1a38",
   "outputs": [
    {
     "data": {
      "text/plain": [
       "'C:\\\\Data\\\\Python\\\\PyCharm'"
      ]
     },
     "execution_count": 4,
     "metadata": {},
     "output_type": "execute_result"
    }
   ],
   "execution_count": 4
  },
  {
   "metadata": {},
   "cell_type": "markdown",
   "source": "#### Reading and writing to a file -",
   "id": "8fabb4caa4dd1b38"
  },
  {
   "metadata": {
    "ExecuteTime": {
     "end_time": "2025-09-05T07:01:10.896257Z",
     "start_time": "2025-09-05T07:01:10.889685Z"
    }
   },
   "cell_type": "code",
   "source": [
    "with open(\"sample.txt\", \"a\") as f:\n",
    "    for s in SampleText.split('.'):\n",
    "        f.write(s+\".\")\n",
    "        f.write('\\n')"
   ],
   "id": "3c3b8b505c110f40",
   "outputs": [],
   "execution_count": 14
  },
  {
   "metadata": {
    "ExecuteTime": {
     "end_time": "2025-09-05T07:00:12.049770Z",
     "start_time": "2025-09-05T07:00:12.044107Z"
    }
   },
   "cell_type": "code",
   "source": [
    "for l in open('sample.txt'):\n",
    "    print(l)"
   ],
   "id": "f45ee324e1aa7934",
   "outputs": [
    {
     "name": "stdout",
     "output_type": "stream",
     "text": [
      "Software development requires understanding systems both large and small.\n",
      "\n",
      " Whether you’re working for a company or a client, you need to understand the customer’s requirements and needs and account for the realities of the environment where the software will run.\n",
      "\n",
      " Successful software adapts to the needs of the users and environment, not the other way around.\n",
      "\n",
      " To understand a process well enough to explain it to another is to educate yourself.\n",
      "\n",
      " Once you ask enough questions to gain that understanding, you’ll never see that process the same again.\n",
      "\n",
      " Your perspective is forever changed because you have learned to understand it well enough to recreate some part of it, if only in someone else’s mind or the computer’s memory.\n",
      "\n",
      " You take that new perspective with you from every project.\n",
      "\n",
      ".\n",
      "\n"
     ]
    }
   ],
   "execution_count": 12
  },
  {
   "metadata": {
    "ExecuteTime": {
     "end_time": "2025-09-05T07:01:15.565161Z",
     "start_time": "2025-09-05T07:01:15.559422Z"
    }
   },
   "cell_type": "code",
   "source": [
    "with open(\"sample.txt\", \"r\") as f:\n",
    "    text = f.readlines()"
   ],
   "id": "97df442a9ff56b6e",
   "outputs": [],
   "execution_count": 15
  },
  {
   "metadata": {},
   "cell_type": "code",
   "outputs": [],
   "execution_count": null,
   "source": "",
   "id": "a64a6c6663da9a85"
  },
  {
   "metadata": {},
   "cell_type": "markdown",
   "source": "#### Working with SQLite",
   "id": "5dbb869ee098659d"
  },
  {
   "metadata": {
    "ExecuteTime": {
     "end_time": "2025-09-05T07:05:51.037558Z",
     "start_time": "2025-09-05T07:05:51.027533Z"
    }
   },
   "cell_type": "code",
   "source": [
    "import sqlite3\n",
    "\n",
    "conn = sqlite3.connect('C:\\\\Users\\\\Andrew\\\\OneDrive\\\\SQLite Book Project\\\\Sample Data\\\\chinook.db')\n",
    "cursor = conn.cursor()\n",
    "cursor.execute(\"select * from customers limit 10;\")\n",
    "rows = cursor.fetchall()\n",
    "\n",
    "for row in rows: print(*row, sep=', ')\n",
    "\n",
    "cursor.close()\n",
    "conn.close()"
   ],
   "id": "a9b08e2eb1601ddf",
   "outputs": [
    {
     "name": "stdout",
     "output_type": "stream",
     "text": [
      "1, Luís, Gonçalves, Embraer - Empresa Brasileira de Aeronáutica S.A., Av. Brigadeiro Faria Lima, 2170, São José dos Campos, SP, Brazil, 12227-000, +55 (12) 3923-5555, +55 (12) 3923-5566, luisg@embraer.com.br, 3\n",
      "2, Leonie, Köhler, None, Theodor-Heuss-Straße 34, Stuttgart, None, Germany, 70174, +49 0711 2842222, None, leonekohler@surfeu.de, 5\n",
      "3, François, Tremblay, None, 1498 rue Bélanger, Montréal, QC, Canada, H2G 1A7, +1 (514) 721-4711, None, ftremblay@gmail.com, 3\n",
      "4, Bjørn, Hansen, None, Ullevålsveien 14, Oslo, None, Norway, 0171, +47 22 44 22 22, None, bjorn.hansen@yahoo.no, 4\n",
      "5, František, Wichterlová, JetBrains s.r.o., Klanova 9/506, Prague, None, Czech Republic, 14700, +420 2 4172 5555, +420 2 4172 5555, frantisekw@jetbrains.com, 4\n",
      "6, Helena, Holý, None, Rilská 3174/6, Prague, None, Czech Republic, 14300, +420 2 4177 0449, None, hholy@gmail.com, 5\n",
      "7, Astrid, Gruber, , Rotenturmstraße 4, 1010 Innere Stadt, Vienne, None, Austria, 1010, +43 01 5134505, None, astrid.gruber@apple.at, 5\n",
      "8, Daan, Peeters, None, Grétrystraat 63, Brussels, None, Belgium, 1000, +32 02 219 03 03, None, daan_peeters@apple.be, 4\n",
      "9, Kara, Nielsen, None, Sønder Boulevard 51, Copenhagen, None, Denmark, 1720, +453 3331 9991, None, kara.nielsen@jubii.dk, 4\n",
      "10, Eduardo, Martins, Woodstock Discos, Rua Dr. Falcão Filho, 155, São Paulo, SP, Brazil, 01007-010, +55 (11) 3033-5446, +55 (11) 3033-4564, eduardo@woodstock.com.br, 4\n"
     ]
    }
   ],
   "execution_count": 18
  },
  {
   "metadata": {},
   "cell_type": "markdown",
   "source": "#### Cards",
   "id": "54dff48560fc7537"
  },
  {
   "metadata": {
    "ExecuteTime": {
     "end_time": "2025-09-05T07:09:30.743028Z",
     "start_time": "2025-09-05T07:09:30.729467Z"
    }
   },
   "cell_type": "code",
   "source": [
    "import random\n",
    "\n",
    "cardDeck = [\n",
    "    (\"2H\", 2), (\"3H\", 3), (\"4H\", 4), (\"5H\", 5), (\"6H\", 6), (\"7H\", 7), (\"8H\", 8), (\"9H\", 9),\n",
    "    (\"10H\", 10), (\"JH\", 10), (\"QH\", 10), (\"KH\", 10), (\"AH\", 11),\n",
    "\n",
    "    (\"2D\", 2), (\"3D\", 3), (\"4D\", 4), (\"5D\", 5), (\"6D\", 6), (\"7D\", 7), (\"8D\", 8), (\"9D\", 9),\n",
    "    (\"10D\", 10), (\"JD\", 10), (\"QD\", 10), (\"KD\", 10), (\"AD\", 11),\n",
    "\n",
    "    (\"2C\", 2), (\"3C\", 3), (\"4C\", 4), (\"5C\", 5), (\"6C\", 6), (\"7C\", 7), (\"8C\", 8), (\"9C\", 9),\n",
    "    (\"10C\", 10), (\"JC\", 10), (\"QC\", 10), (\"KC\", 10), (\"AC\", 11),\n",
    "\n",
    "    (\"2S\", 2), (\"3S\", 3), (\"4S\", 4), (\"5S\", 5), (\"6S\", 6), (\"7S\", 7), (\"8S\", 8), (\"9S\", 9),\n",
    "    (\"10S\", 10), (\"JS\", 10), (\"QS\", 10), (\"KS\", 10), (\"AS\", 11)\n",
    "]\n",
    "\n",
    "random.shuffle(cardDeck)\n",
    "\n",
    "cardDeck"
   ],
   "id": "67254e9b45f01b06",
   "outputs": [
    {
     "data": {
      "text/plain": [
       "[('6D', 6),\n",
       " ('AS', 11),\n",
       " ('QC', 10),\n",
       " ('9H', 9),\n",
       " ('2H', 2),\n",
       " ('6H', 6),\n",
       " ('4S', 4),\n",
       " ('5H', 5),\n",
       " ('5C', 5),\n",
       " ('5D', 5),\n",
       " ('AC', 11),\n",
       " ('KH', 10),\n",
       " ('KS', 10),\n",
       " ('5S', 5),\n",
       " ('2C', 2),\n",
       " ('3C', 3),\n",
       " ('8H', 8),\n",
       " ('6C', 6),\n",
       " ('4H', 4),\n",
       " ('AD', 11),\n",
       " ('7D', 7),\n",
       " ('7H', 7),\n",
       " ('JC', 10),\n",
       " ('KD', 10),\n",
       " ('KC', 10),\n",
       " ('6S', 6),\n",
       " ('10S', 10),\n",
       " ('2S', 2),\n",
       " ('3H', 3),\n",
       " ('QD', 10),\n",
       " ('10C', 10),\n",
       " ('2D', 2),\n",
       " ('4D', 4),\n",
       " ('10H', 10),\n",
       " ('4C', 4),\n",
       " ('3D', 3),\n",
       " ('9D', 9),\n",
       " ('8S', 8),\n",
       " ('AH', 11),\n",
       " ('3S', 3),\n",
       " ('QH', 10),\n",
       " ('7C', 7),\n",
       " ('8D', 8),\n",
       " ('9S', 9),\n",
       " ('QS', 10),\n",
       " ('JH', 10),\n",
       " ('JD', 10),\n",
       " ('7S', 7),\n",
       " ('8C', 8),\n",
       " ('9C', 9),\n",
       " ('JS', 10),\n",
       " ('10D', 10)]"
      ]
     },
     "execution_count": 20,
     "metadata": {},
     "output_type": "execute_result"
    }
   ],
   "execution_count": 20
  },
  {
   "metadata": {
    "ExecuteTime": {
     "end_time": "2025-09-06T01:39:37.443406Z",
     "start_time": "2025-09-06T01:39:37.433145Z"
    }
   },
   "cell_type": "code",
   "source": [
    "def blackjack(a,b,c):\n",
    "    hand = [a,b,c]\n",
    "\n",
    "    if sum(hand) > 21:\n",
    "        for i, x in enumerate(hand):\n",
    "            if x == 11: hand[i] = 1\n",
    "\n",
    "    if sum(hand) > 21:\n",
    "        print(hand)\n",
    "        return 'BUST'\n",
    "    else:\n",
    "        return sum(hand)"
   ],
   "id": "32f9fad7b9e8cc6f",
   "outputs": [],
   "execution_count": 1
  },
  {
   "metadata": {
    "ExecuteTime": {
     "end_time": "2025-09-06T01:40:14.689016Z",
     "start_time": "2025-09-06T01:40:14.676976Z"
    }
   },
   "cell_type": "markdown",
   "source": [
    "#### SUMMER OF '69: Return the sum of the numbers in the array, except ignore sections of numbers starting with a 6 and extending to the next 9 (every 6 will be followed by at least one 9). Return 0 for no numbers.\n",
    "\n",
    "summer_69([1, 3, 5]) --> 9\n",
    "summer_69([4, 5, 6, 7, 8, 9]) --> 9\n",
    "summer_69([2, 1, 6, 9, 11]) --> 14"
   ],
   "id": "261ed356f6beac4c"
  },
  {
   "metadata": {
    "ExecuteTime": {
     "end_time": "2025-09-06T01:40:39.589802Z",
     "start_time": "2025-09-06T01:40:39.578244Z"
    }
   },
   "cell_type": "code",
   "source": [
    "def summer_69(arr):\n",
    "    skip = False\n",
    "    total = 0\n",
    "\n",
    "    for x in arr:\n",
    "        if x == 6 or (skip and x == 9):\n",
    "            skip = x == 6\n",
    "        else:\n",
    "            if not skip: total += x\n",
    "\n",
    "    return total"
   ],
   "id": "66fa8fbe29c9d1d5",
   "outputs": [],
   "execution_count": 3
  },
  {
   "metadata": {
    "ExecuteTime": {
     "end_time": "2025-09-06T01:41:06.101389Z",
     "start_time": "2025-09-06T01:41:06.094335Z"
    }
   },
   "cell_type": "code",
   "source": [
    "def count_primes(limit):\n",
    "\n",
    "    primeList = [2]\n",
    "    for num in range(3, limit + 1, 2):\n",
    "      if all(num % testNum != 0 for testNum in range(3, int(num**0.5)+1,2)):\n",
    "          primeList.append(num)\n",
    "\n",
    "    print(primeList)\n",
    "    return len(primeList)"
   ],
   "id": "16255e76d0bb1b58",
   "outputs": [],
   "execution_count": 4
  },
  {
   "metadata": {},
   "cell_type": "markdown",
   "source": "## Enumeration example",
   "id": "f2bccbd5b33d2d4f"
  },
  {
   "metadata": {
    "ExecuteTime": {
     "end_time": "2025-09-06T01:43:39.523584Z",
     "start_time": "2025-09-06T01:43:39.508809Z"
    }
   },
   "cell_type": "code",
   "source": [
    "def old_macdonald(name):\n",
    "    return ''.join(\n",
    "        letter.upper() if i == 0 or i == 3 else letter.lower()\n",
    "        for i, letter in enumerate(name))"
   ],
   "id": "681c49785aedc9",
   "outputs": [],
   "execution_count": 5
  },
  {
   "metadata": {},
   "cell_type": "code",
   "outputs": [],
   "execution_count": null,
   "source": "",
   "id": "f67d4d8ef56af49e"
  }
 ],
 "metadata": {
  "kernelspec": {
   "display_name": "Python 3",
   "language": "python",
   "name": "python3"
  },
  "language_info": {
   "codemirror_mode": {
    "name": "ipython",
    "version": 2
   },
   "file_extension": ".py",
   "mimetype": "text/x-python",
   "name": "python",
   "nbconvert_exporter": "python",
   "pygments_lexer": "ipython2",
   "version": "2.7.6"
  }
 },
 "nbformat": 4,
 "nbformat_minor": 5
}
